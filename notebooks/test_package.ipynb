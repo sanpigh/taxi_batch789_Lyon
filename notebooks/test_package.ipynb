{
 "cells": [
  {
   "cell_type": "code",
   "execution_count": 1,
   "id": "39ef3950",
   "metadata": {},
   "outputs": [],
   "source": [
    "%load_ext autoreload\n",
    "%autoreload"
   ]
  },
  {
   "cell_type": "code",
   "execution_count": 2,
   "id": "fcb1b25e",
   "metadata": {},
   "outputs": [],
   "source": [
    "import taxi_batch789_Lyon as taxi"
   ]
  },
  {
   "cell_type": "code",
   "execution_count": 3,
   "id": "b6562bc1",
   "metadata": {},
   "outputs": [
    {
     "name": "stdout",
     "output_type": "stream",
     "text": [
      "Makefile     raw_data\t       scripts\t\t   taxi_batch789_Lyon.egg-info\r\n",
      "MANIFEST.in  README.md\t       setup.py\t\t   tests\r\n",
      "notebooks    requirements.txt  taxi_batch789_Lyon\r\n"
     ]
    }
   ],
   "source": [
    "!ls ../\n"
   ]
  },
  {
   "cell_type": "code",
   "execution_count": null,
   "id": "11646073",
   "metadata": {},
   "outputs": [],
   "source": []
  }
 ],
 "metadata": {
  "kernelspec": {
   "display_name": "Python 3 (ipykernel)",
   "language": "python",
   "name": "python3"
  },
  "language_info": {
   "codemirror_mode": {
    "name": "ipython",
    "version": 3
   },
   "file_extension": ".py",
   "mimetype": "text/x-python",
   "name": "python",
   "nbconvert_exporter": "python",
   "pygments_lexer": "ipython3",
   "version": "3.8.6"
  },
  "toc": {
   "base_numbering": 1,
   "nav_menu": {},
   "number_sections": true,
   "sideBar": true,
   "skip_h1_title": false,
   "title_cell": "Table of Contents",
   "title_sidebar": "Contents",
   "toc_cell": false,
   "toc_position": {},
   "toc_section_display": true,
   "toc_window_display": false
  }
 },
 "nbformat": 4,
 "nbformat_minor": 5
}
